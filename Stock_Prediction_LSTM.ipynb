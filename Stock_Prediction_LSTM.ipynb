{
  "nbformat": 4,
  "nbformat_minor": 0,
  "metadata": {
    "kernelspec": {
      "display_name": "Python 3",
      "language": "python",
      "name": "python3"
    },
    "language_info": {
      "codemirror_mode": {
        "name": "ipython",
        "version": 3
      },
      "file_extension": ".py",
      "mimetype": "text/x-python",
      "name": "python",
      "nbconvert_exporter": "python",
      "pygments_lexer": "ipython3",
      "version": "3.8.3"
    },
    "colab": {
      "name": "Stock_Prediction_LSTM.ipynb",
      "provenance": [],
      "collapsed_sections": []
    }
  },
  "cells": [
    {
      "cell_type": "markdown",
      "metadata": {
        "id": "mIqxFGuTrMcQ",
        "colab_type": "text"
      },
      "source": [
        "# **Stock Price Prediction**\n",
        "\n",
        "\n"
      ]
    },
    {
      "cell_type": "markdown",
      "metadata": {
        "id": "XH_Vx4OYrbtx",
        "colab_type": "text"
      },
      "source": [
        "# LSTM"
      ]
    },
    {
      "cell_type": "code",
      "metadata": {
        "id": "7x9YGbS3C1b4",
        "colab_type": "code",
        "colab": {
          "base_uri": "https://localhost:8080/",
          "height": 35
        },
        "outputId": "5a2f6cf6-85d1-4867-d11a-5af1bae044b3"
      },
      "source": [
        "#Importing the libraries\n",
        "\n",
        "import numpy as np\n",
        "import matplotlib.pyplot as plt\n",
        "import pandas as pd\n",
        "import math\n",
        "\n",
        "from sklearn.metrics import mean_squared_error\n",
        "from sklearn.preprocessing import MinMaxScaler\n",
        "from keras.models import Sequential\n",
        "from keras.layers import Dense\n",
        "from keras.layers import LSTM"
      ],
      "execution_count": null,
      "outputs": [
        {
          "output_type": "stream",
          "text": [
            "Using TensorFlow backend.\n"
          ],
          "name": "stderr"
        }
      ]
    },
    {
      "cell_type": "code",
      "metadata": {
        "id": "pETE31np2hpp",
        "colab_type": "code",
        "colab": {}
      },
      "source": [
        "def dataset_transform(dataset):\n",
        "  data = []\n",
        "  for i in range(len(dataset)):\n",
        "    a = dataset[i][0]\n",
        "    data.append(float(a))\n",
        "  return np.array([data])"
      ],
      "execution_count": null,
      "outputs": []
    },
    {
      "cell_type": "code",
      "metadata": {
        "id": "YU-IClAkUQhz",
        "colab_type": "code",
        "colab": {}
      },
      "source": [
        "def createDataset(dataset, time_step = 1):\n",
        "  datax, datay = [], []\n",
        "  for i in range(len(dataset) - time_step - 1):\n",
        "    a = dataset[i:(i + time_step), 0]\n",
        "    datax.append(a)\n",
        "    datay.append(dataset[i + time_step, 0])\n",
        "  return np.array(datax), np.array(datay)"
      ],
      "execution_count": null,
      "outputs": []
    },
    {
      "cell_type": "code",
      "metadata": {
        "id": "-8wbEvm9Ggcb",
        "colab_type": "code",
        "colab": {
          "resources": {
            "http://localhost:8080/nbextensions/google.colab/files.js": {
              "data": "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",
              "ok": true,
              "headers": [
                [
                  "content-type",
                  "application/javascript"
                ]
              ],
              "status": 200,
              "status_text": ""
            }
          },
          "base_uri": "https://localhost:8080/",
          "height": 73
        },
        "outputId": "e5c471ea-9e45-409e-f201-6bc6fbc8938b"
      },
      "source": [
        "from google.colab import files\n",
        "uploaded = files.upload()"
      ],
      "execution_count": null,
      "outputs": [
        {
          "output_type": "display_data",
          "data": {
            "text/html": [
              "\n",
              "     <input type=\"file\" id=\"files-4c8303cb-d768-4288-a5c3-799a76b87185\" name=\"files[]\" multiple disabled\n",
              "        style=\"border:none\" />\n",
              "     <output id=\"result-4c8303cb-d768-4288-a5c3-799a76b87185\">\n",
              "      Upload widget is only available when the cell has been executed in the\n",
              "      current browser session. Please rerun this cell to enable.\n",
              "      </output>\n",
              "      <script src=\"/nbextensions/google.colab/files.js\"></script> "
            ],
            "text/plain": [
              "<IPython.core.display.HTML object>"
            ]
          },
          "metadata": {
            "tags": []
          }
        },
        {
          "output_type": "stream",
          "text": [
            "Saving Google_Stock_Price_Custom.csv to Google_Stock_Price_Custom.csv\n"
          ],
          "name": "stdout"
        }
      ]
    },
    {
      "cell_type": "code",
      "metadata": {
        "id": "7E_82aYZGpua",
        "colab_type": "code",
        "colab": {
          "base_uri": "https://localhost:8080/",
          "height": 407
        },
        "outputId": "32e88588-fcc5-4766-d5a6-a70913cef9c9"
      },
      "source": [
        "#Importing the data set\n",
        "\n",
        "import io\n",
        "data_set = pd.read_csv(io.BytesIO(uploaded['Google_Stock_Price_Custom.csv']))\n",
        "training_set = data_set[0:int(len(data_set)*0.8)]\n",
        "testing_set = data_set[int(len(data_set)*0.8):]\n",
        "data_set"
      ],
      "execution_count": null,
      "outputs": [
        {
          "output_type": "execute_result",
          "data": {
            "text/html": [
              "<div>\n",
              "<style scoped>\n",
              "    .dataframe tbody tr th:only-of-type {\n",
              "        vertical-align: middle;\n",
              "    }\n",
              "\n",
              "    .dataframe tbody tr th {\n",
              "        vertical-align: top;\n",
              "    }\n",
              "\n",
              "    .dataframe thead th {\n",
              "        text-align: right;\n",
              "    }\n",
              "</style>\n",
              "<table border=\"1\" class=\"dataframe\">\n",
              "  <thead>\n",
              "    <tr style=\"text-align: right;\">\n",
              "      <th></th>\n",
              "      <th>Date</th>\n",
              "      <th>Open</th>\n",
              "      <th>High</th>\n",
              "      <th>Low</th>\n",
              "      <th>Close</th>\n",
              "      <th>Volume</th>\n",
              "    </tr>\n",
              "  </thead>\n",
              "  <tbody>\n",
              "    <tr>\n",
              "      <th>0</th>\n",
              "      <td>01-03-2012</td>\n",
              "      <td>325.25</td>\n",
              "      <td>332.83</td>\n",
              "      <td>324.97</td>\n",
              "      <td>663.59</td>\n",
              "      <td>73,80,500</td>\n",
              "    </tr>\n",
              "    <tr>\n",
              "      <th>1</th>\n",
              "      <td>01-04-2012</td>\n",
              "      <td>331.27</td>\n",
              "      <td>333.87</td>\n",
              "      <td>329.08</td>\n",
              "      <td>666.45</td>\n",
              "      <td>57,49,400</td>\n",
              "    </tr>\n",
              "    <tr>\n",
              "      <th>2</th>\n",
              "      <td>01-05-2012</td>\n",
              "      <td>329.83</td>\n",
              "      <td>330.75</td>\n",
              "      <td>326.89</td>\n",
              "      <td>657.21</td>\n",
              "      <td>65,90,300</td>\n",
              "    </tr>\n",
              "    <tr>\n",
              "      <th>3</th>\n",
              "      <td>01-06-2012</td>\n",
              "      <td>328.34</td>\n",
              "      <td>328.77</td>\n",
              "      <td>323.68</td>\n",
              "      <td>648.24</td>\n",
              "      <td>54,05,900</td>\n",
              "    </tr>\n",
              "    <tr>\n",
              "      <th>4</th>\n",
              "      <td>01-09-2012</td>\n",
              "      <td>322.04</td>\n",
              "      <td>322.29</td>\n",
              "      <td>309.46</td>\n",
              "      <td>620.76</td>\n",
              "      <td>1,16,88,800</td>\n",
              "    </tr>\n",
              "    <tr>\n",
              "      <th>...</th>\n",
              "      <td>...</td>\n",
              "      <td>...</td>\n",
              "      <td>...</td>\n",
              "      <td>...</td>\n",
              "      <td>...</td>\n",
              "      <td>...</td>\n",
              "    </tr>\n",
              "    <tr>\n",
              "      <th>1273</th>\n",
              "      <td>1/25/2017</td>\n",
              "      <td>829.62</td>\n",
              "      <td>835.77</td>\n",
              "      <td>825.06</td>\n",
              "      <td>835.67</td>\n",
              "      <td>14,94,500</td>\n",
              "    </tr>\n",
              "    <tr>\n",
              "      <th>1274</th>\n",
              "      <td>1/26/2017</td>\n",
              "      <td>837.81</td>\n",
              "      <td>838.00</td>\n",
              "      <td>827.01</td>\n",
              "      <td>832.15</td>\n",
              "      <td>29,73,900</td>\n",
              "    </tr>\n",
              "    <tr>\n",
              "      <th>1275</th>\n",
              "      <td>1/27/2017</td>\n",
              "      <td>834.71</td>\n",
              "      <td>841.95</td>\n",
              "      <td>820.44</td>\n",
              "      <td>823.31</td>\n",
              "      <td>29,65,800</td>\n",
              "    </tr>\n",
              "    <tr>\n",
              "      <th>1276</th>\n",
              "      <td>1/30/2017</td>\n",
              "      <td>814.66</td>\n",
              "      <td>815.84</td>\n",
              "      <td>799.80</td>\n",
              "      <td>802.32</td>\n",
              "      <td>32,46,600</td>\n",
              "    </tr>\n",
              "    <tr>\n",
              "      <th>1277</th>\n",
              "      <td>1/31/2017</td>\n",
              "      <td>796.86</td>\n",
              "      <td>801.25</td>\n",
              "      <td>790.52</td>\n",
              "      <td>796.79</td>\n",
              "      <td>21,60,600</td>\n",
              "    </tr>\n",
              "  </tbody>\n",
              "</table>\n",
              "<p>1278 rows × 6 columns</p>\n",
              "</div>"
            ],
            "text/plain": [
              "            Date    Open    High     Low   Close       Volume\n",
              "0     01-03-2012  325.25  332.83  324.97  663.59    73,80,500\n",
              "1     01-04-2012  331.27  333.87  329.08  666.45    57,49,400\n",
              "2     01-05-2012  329.83  330.75  326.89  657.21    65,90,300\n",
              "3     01-06-2012  328.34  328.77  323.68  648.24    54,05,900\n",
              "4     01-09-2012  322.04  322.29  309.46  620.76  1,16,88,800\n",
              "...          ...     ...     ...     ...     ...          ...\n",
              "1273   1/25/2017  829.62  835.77  825.06  835.67    14,94,500\n",
              "1274   1/26/2017  837.81  838.00  827.01  832.15    29,73,900\n",
              "1275   1/27/2017  834.71  841.95  820.44  823.31    29,65,800\n",
              "1276   1/30/2017  814.66  815.84  799.80  802.32    32,46,600\n",
              "1277   1/31/2017  796.86  801.25  790.52  796.79    21,60,600\n",
              "\n",
              "[1278 rows x 6 columns]"
            ]
          },
          "metadata": {
            "tags": []
          },
          "execution_count": 7
        }
      ]
    },
    {
      "cell_type": "code",
      "metadata": {
        "id": "Zskco2rk00VP",
        "colab_type": "code",
        "colab": {
          "base_uri": "https://localhost:8080/",
          "height": 407
        },
        "outputId": "2427961d-d1fc-417c-8ad5-79be7bfc9d2c"
      },
      "source": [
        "training_set"
      ],
      "execution_count": null,
      "outputs": [
        {
          "output_type": "execute_result",
          "data": {
            "text/html": [
              "<div>\n",
              "<style scoped>\n",
              "    .dataframe tbody tr th:only-of-type {\n",
              "        vertical-align: middle;\n",
              "    }\n",
              "\n",
              "    .dataframe tbody tr th {\n",
              "        vertical-align: top;\n",
              "    }\n",
              "\n",
              "    .dataframe thead th {\n",
              "        text-align: right;\n",
              "    }\n",
              "</style>\n",
              "<table border=\"1\" class=\"dataframe\">\n",
              "  <thead>\n",
              "    <tr style=\"text-align: right;\">\n",
              "      <th></th>\n",
              "      <th>Date</th>\n",
              "      <th>Open</th>\n",
              "      <th>High</th>\n",
              "      <th>Low</th>\n",
              "      <th>Close</th>\n",
              "      <th>Volume</th>\n",
              "    </tr>\n",
              "  </thead>\n",
              "  <tbody>\n",
              "    <tr>\n",
              "      <th>0</th>\n",
              "      <td>01-03-2012</td>\n",
              "      <td>325.25</td>\n",
              "      <td>332.83</td>\n",
              "      <td>324.97</td>\n",
              "      <td>663.59</td>\n",
              "      <td>73,80,500</td>\n",
              "    </tr>\n",
              "    <tr>\n",
              "      <th>1</th>\n",
              "      <td>01-04-2012</td>\n",
              "      <td>331.27</td>\n",
              "      <td>333.87</td>\n",
              "      <td>329.08</td>\n",
              "      <td>666.45</td>\n",
              "      <td>57,49,400</td>\n",
              "    </tr>\n",
              "    <tr>\n",
              "      <th>2</th>\n",
              "      <td>01-05-2012</td>\n",
              "      <td>329.83</td>\n",
              "      <td>330.75</td>\n",
              "      <td>326.89</td>\n",
              "      <td>657.21</td>\n",
              "      <td>65,90,300</td>\n",
              "    </tr>\n",
              "    <tr>\n",
              "      <th>3</th>\n",
              "      <td>01-06-2012</td>\n",
              "      <td>328.34</td>\n",
              "      <td>328.77</td>\n",
              "      <td>323.68</td>\n",
              "      <td>648.24</td>\n",
              "      <td>54,05,900</td>\n",
              "    </tr>\n",
              "    <tr>\n",
              "      <th>4</th>\n",
              "      <td>01-09-2012</td>\n",
              "      <td>322.04</td>\n",
              "      <td>322.29</td>\n",
              "      <td>309.46</td>\n",
              "      <td>620.76</td>\n",
              "      <td>1,16,88,800</td>\n",
              "    </tr>\n",
              "    <tr>\n",
              "      <th>...</th>\n",
              "      <td>...</td>\n",
              "      <td>...</td>\n",
              "      <td>...</td>\n",
              "      <td>...</td>\n",
              "      <td>...</td>\n",
              "      <td>...</td>\n",
              "    </tr>\n",
              "    <tr>\n",
              "      <th>1017</th>\n",
              "      <td>1/20/2016</td>\n",
              "      <td>688.61</td>\n",
              "      <td>706.85</td>\n",
              "      <td>673.26</td>\n",
              "      <td>698.45</td>\n",
              "      <td>34,45,000</td>\n",
              "    </tr>\n",
              "    <tr>\n",
              "      <th>1018</th>\n",
              "      <td>1/21/2016</td>\n",
              "      <td>702.18</td>\n",
              "      <td>719.19</td>\n",
              "      <td>694.46</td>\n",
              "      <td>706.59</td>\n",
              "      <td>24,12,200</td>\n",
              "    </tr>\n",
              "    <tr>\n",
              "      <th>1019</th>\n",
              "      <td>1/22/2016</td>\n",
              "      <td>723.60</td>\n",
              "      <td>728.13</td>\n",
              "      <td>720.12</td>\n",
              "      <td>725.25</td>\n",
              "      <td>20,11,800</td>\n",
              "    </tr>\n",
              "    <tr>\n",
              "      <th>1020</th>\n",
              "      <td>1/25/2016</td>\n",
              "      <td>723.58</td>\n",
              "      <td>729.68</td>\n",
              "      <td>710.01</td>\n",
              "      <td>711.67</td>\n",
              "      <td>17,11,700</td>\n",
              "    </tr>\n",
              "    <tr>\n",
              "      <th>1021</th>\n",
              "      <td>1/26/2016</td>\n",
              "      <td>713.85</td>\n",
              "      <td>718.28</td>\n",
              "      <td>706.48</td>\n",
              "      <td>713.04</td>\n",
              "      <td>13,31,700</td>\n",
              "    </tr>\n",
              "  </tbody>\n",
              "</table>\n",
              "<p>1022 rows × 6 columns</p>\n",
              "</div>"
            ],
            "text/plain": [
              "            Date    Open    High     Low   Close       Volume\n",
              "0     01-03-2012  325.25  332.83  324.97  663.59    73,80,500\n",
              "1     01-04-2012  331.27  333.87  329.08  666.45    57,49,400\n",
              "2     01-05-2012  329.83  330.75  326.89  657.21    65,90,300\n",
              "3     01-06-2012  328.34  328.77  323.68  648.24    54,05,900\n",
              "4     01-09-2012  322.04  322.29  309.46  620.76  1,16,88,800\n",
              "...          ...     ...     ...     ...     ...          ...\n",
              "1017   1/20/2016  688.61  706.85  673.26  698.45    34,45,000\n",
              "1018   1/21/2016  702.18  719.19  694.46  706.59    24,12,200\n",
              "1019   1/22/2016  723.60  728.13  720.12  725.25    20,11,800\n",
              "1020   1/25/2016  723.58  729.68  710.01  711.67    17,11,700\n",
              "1021   1/26/2016  713.85  718.28  706.48  713.04    13,31,700\n",
              "\n",
              "[1022 rows x 6 columns]"
            ]
          },
          "metadata": {
            "tags": []
          },
          "execution_count": 8
        }
      ]
    },
    {
      "cell_type": "code",
      "metadata": {
        "id": "85zsl5261ATE",
        "colab_type": "code",
        "colab": {
          "base_uri": "https://localhost:8080/",
          "height": 407
        },
        "outputId": "b35d23f9-f369-43c4-a6f7-4e1707552708"
      },
      "source": [
        "testing_set"
      ],
      "execution_count": null,
      "outputs": [
        {
          "output_type": "execute_result",
          "data": {
            "text/html": [
              "<div>\n",
              "<style scoped>\n",
              "    .dataframe tbody tr th:only-of-type {\n",
              "        vertical-align: middle;\n",
              "    }\n",
              "\n",
              "    .dataframe tbody tr th {\n",
              "        vertical-align: top;\n",
              "    }\n",
              "\n",
              "    .dataframe thead th {\n",
              "        text-align: right;\n",
              "    }\n",
              "</style>\n",
              "<table border=\"1\" class=\"dataframe\">\n",
              "  <thead>\n",
              "    <tr style=\"text-align: right;\">\n",
              "      <th></th>\n",
              "      <th>Date</th>\n",
              "      <th>Open</th>\n",
              "      <th>High</th>\n",
              "      <th>Low</th>\n",
              "      <th>Close</th>\n",
              "      <th>Volume</th>\n",
              "    </tr>\n",
              "  </thead>\n",
              "  <tbody>\n",
              "    <tr>\n",
              "      <th>1022</th>\n",
              "      <td>1/27/2016</td>\n",
              "      <td>713.67</td>\n",
              "      <td>718.23</td>\n",
              "      <td>694.39</td>\n",
              "      <td>699.99</td>\n",
              "      <td>21,94,200</td>\n",
              "    </tr>\n",
              "    <tr>\n",
              "      <th>1023</th>\n",
              "      <td>1/28/2016</td>\n",
              "      <td>722.22</td>\n",
              "      <td>733.69</td>\n",
              "      <td>712.35</td>\n",
              "      <td>730.96</td>\n",
              "      <td>26,76,400</td>\n",
              "    </tr>\n",
              "    <tr>\n",
              "      <th>1024</th>\n",
              "      <td>1/29/2016</td>\n",
              "      <td>731.53</td>\n",
              "      <td>744.99</td>\n",
              "      <td>726.80</td>\n",
              "      <td>742.95</td>\n",
              "      <td>34,74,300</td>\n",
              "    </tr>\n",
              "    <tr>\n",
              "      <th>1025</th>\n",
              "      <td>02-01-2016</td>\n",
              "      <td>750.46</td>\n",
              "      <td>757.86</td>\n",
              "      <td>743.27</td>\n",
              "      <td>752</td>\n",
              "      <td>51,39,200</td>\n",
              "    </tr>\n",
              "    <tr>\n",
              "      <th>1026</th>\n",
              "      <td>02-02-2016</td>\n",
              "      <td>784.50</td>\n",
              "      <td>789.87</td>\n",
              "      <td>764.65</td>\n",
              "      <td>764.65</td>\n",
              "      <td>63,48,100</td>\n",
              "    </tr>\n",
              "    <tr>\n",
              "      <th>...</th>\n",
              "      <td>...</td>\n",
              "      <td>...</td>\n",
              "      <td>...</td>\n",
              "      <td>...</td>\n",
              "      <td>...</td>\n",
              "      <td>...</td>\n",
              "    </tr>\n",
              "    <tr>\n",
              "      <th>1273</th>\n",
              "      <td>1/25/2017</td>\n",
              "      <td>829.62</td>\n",
              "      <td>835.77</td>\n",
              "      <td>825.06</td>\n",
              "      <td>835.67</td>\n",
              "      <td>14,94,500</td>\n",
              "    </tr>\n",
              "    <tr>\n",
              "      <th>1274</th>\n",
              "      <td>1/26/2017</td>\n",
              "      <td>837.81</td>\n",
              "      <td>838.00</td>\n",
              "      <td>827.01</td>\n",
              "      <td>832.15</td>\n",
              "      <td>29,73,900</td>\n",
              "    </tr>\n",
              "    <tr>\n",
              "      <th>1275</th>\n",
              "      <td>1/27/2017</td>\n",
              "      <td>834.71</td>\n",
              "      <td>841.95</td>\n",
              "      <td>820.44</td>\n",
              "      <td>823.31</td>\n",
              "      <td>29,65,800</td>\n",
              "    </tr>\n",
              "    <tr>\n",
              "      <th>1276</th>\n",
              "      <td>1/30/2017</td>\n",
              "      <td>814.66</td>\n",
              "      <td>815.84</td>\n",
              "      <td>799.80</td>\n",
              "      <td>802.32</td>\n",
              "      <td>32,46,600</td>\n",
              "    </tr>\n",
              "    <tr>\n",
              "      <th>1277</th>\n",
              "      <td>1/31/2017</td>\n",
              "      <td>796.86</td>\n",
              "      <td>801.25</td>\n",
              "      <td>790.52</td>\n",
              "      <td>796.79</td>\n",
              "      <td>21,60,600</td>\n",
              "    </tr>\n",
              "  </tbody>\n",
              "</table>\n",
              "<p>256 rows × 6 columns</p>\n",
              "</div>"
            ],
            "text/plain": [
              "            Date    Open    High     Low   Close     Volume\n",
              "1022   1/27/2016  713.67  718.23  694.39  699.99  21,94,200\n",
              "1023   1/28/2016  722.22  733.69  712.35  730.96  26,76,400\n",
              "1024   1/29/2016  731.53  744.99  726.80  742.95  34,74,300\n",
              "1025  02-01-2016  750.46  757.86  743.27     752  51,39,200\n",
              "1026  02-02-2016  784.50  789.87  764.65  764.65  63,48,100\n",
              "...          ...     ...     ...     ...     ...        ...\n",
              "1273   1/25/2017  829.62  835.77  825.06  835.67  14,94,500\n",
              "1274   1/26/2017  837.81  838.00  827.01  832.15  29,73,900\n",
              "1275   1/27/2017  834.71  841.95  820.44  823.31  29,65,800\n",
              "1276   1/30/2017  814.66  815.84  799.80  802.32  32,46,600\n",
              "1277   1/31/2017  796.86  801.25  790.52  796.79  21,60,600\n",
              "\n",
              "[256 rows x 6 columns]"
            ]
          },
          "metadata": {
            "tags": []
          },
          "execution_count": 9
        }
      ]
    },
    {
      "cell_type": "code",
      "metadata": {
        "id": "igP3k4uGC1cE",
        "colab_type": "code",
        "colab": {
          "base_uri": "https://localhost:8080/",
          "height": 1000
        },
        "outputId": "a910f5c1-edda-4338-c833-19f956304fe3"
      },
      "source": [
        "train_set_org = training_set.iloc[:,1:2].values\n",
        "test_set_org = testing_set.iloc[:,1:2].values\n",
        "print(train_set_org, test_set_org)"
      ],
      "execution_count": null,
      "outputs": [
        {
          "output_type": "stream",
          "text": [
            "[[325.25]\n",
            " [331.27]\n",
            " [329.83]\n",
            " ...\n",
            " [723.6 ]\n",
            " [723.58]\n",
            " [713.85]] [[713.67]\n",
            " [722.22]\n",
            " [731.53]\n",
            " [750.46]\n",
            " [784.5 ]\n",
            " [770.22]\n",
            " [722.81]\n",
            " [703.87]\n",
            " [667.85]\n",
            " [672.32]\n",
            " [686.86]\n",
            " [675.  ]\n",
            " [690.26]\n",
            " [692.98]\n",
            " [698.09]\n",
            " [710.  ]\n",
            " [695.03]\n",
            " [707.45]\n",
            " [701.45]\n",
            " [688.92]\n",
            " [700.01]\n",
            " [708.58]\n",
            " [700.32]\n",
            " [703.62]\n",
            " [719.  ]\n",
            " [718.68]\n",
            " [714.99]\n",
            " [706.9 ]\n",
            " [688.59]\n",
            " [698.47]\n",
            " [708.12]\n",
            " [720.  ]\n",
            " [726.81]\n",
            " [726.92]\n",
            " [726.37]\n",
            " [736.45]\n",
            " [741.86]\n",
            " [736.5 ]\n",
            " [737.46]\n",
            " [742.36]\n",
            " [732.01]\n",
            " [736.79]\n",
            " [734.59]\n",
            " [750.1 ]\n",
            " [749.25]\n",
            " [738.6 ]\n",
            " [750.06]\n",
            " [738.  ]\n",
            " [735.77]\n",
            " [745.37]\n",
            " [743.97]\n",
            " [743.02]\n",
            " [738.  ]\n",
            " [749.16]\n",
            " [754.01]\n",
            " [753.98]\n",
            " [760.46]\n",
            " [769.51]\n",
            " [758.  ]\n",
            " [755.38]\n",
            " [726.3 ]\n",
            " [716.1 ]\n",
            " [725.42]\n",
            " [707.29]\n",
            " [708.26]\n",
            " [690.7 ]\n",
            " [697.63]\n",
            " [696.87]\n",
            " [690.49]\n",
            " [697.7 ]\n",
            " [698.38]\n",
            " [712.  ]\n",
            " [716.75]\n",
            " [723.41]\n",
            " [717.06]\n",
            " [711.93]\n",
            " [709.13]\n",
            " [715.99]\n",
            " [703.67]\n",
            " [702.36]\n",
            " [701.62]\n",
            " [706.53]\n",
            " [706.86]\n",
            " [720.76]\n",
            " [722.87]\n",
            " [724.01]\n",
            " [731.74]\n",
            " [734.53]\n",
            " [732.5 ]\n",
            " [729.27]\n",
            " [724.91]\n",
            " [719.84]\n",
            " [723.96]\n",
            " [722.87]\n",
            " [719.47]\n",
            " [716.51]\n",
            " [716.48]\n",
            " [719.  ]\n",
            " [714.91]\n",
            " [708.65]\n",
            " [698.77]\n",
            " [698.4 ]\n",
            " [699.06]\n",
            " [697.45]\n",
            " [675.17]\n",
            " [671.  ]\n",
            " [678.97]\n",
            " [683.  ]\n",
            " [685.47]\n",
            " [692.2 ]\n",
            " [696.06]\n",
            " [689.98]\n",
            " [698.08]\n",
            " [699.5 ]\n",
            " [708.05]\n",
            " [719.12]\n",
            " [723.62]\n",
            " [721.58]\n",
            " [725.73]\n",
            " [722.71]\n",
            " [729.89]\n",
            " [737.33]\n",
            " [740.36]\n",
            " [741.86]\n",
            " [740.67]\n",
            " [739.04]\n",
            " [738.28]\n",
            " [747.04]\n",
            " [772.71]\n",
            " [761.09]\n",
            " [768.69]\n",
            " [767.18]\n",
            " [772.22]\n",
            " [773.78]\n",
            " [782.  ]\n",
            " [781.1 ]\n",
            " [783.75]\n",
            " [785.  ]\n",
            " [781.5 ]\n",
            " [783.75]\n",
            " [780.3 ]\n",
            " [777.32]\n",
            " [780.01]\n",
            " [775.  ]\n",
            " [773.27]\n",
            " [775.48]\n",
            " [770.58]\n",
            " [767.  ]\n",
            " [769.  ]\n",
            " [768.74]\n",
            " [769.33]\n",
            " [767.01]\n",
            " [769.25]\n",
            " [773.01]\n",
            " [773.45]\n",
            " [780.  ]\n",
            " [778.59]\n",
            " [770.1 ]\n",
            " [755.13]\n",
            " [764.48]\n",
            " [759.61]\n",
            " [762.89]\n",
            " [769.75]\n",
            " [772.42]\n",
            " [769.  ]\n",
            " [772.66]\n",
            " [780.  ]\n",
            " [786.59]\n",
            " [782.74]\n",
            " [775.5 ]\n",
            " [777.85]\n",
            " [781.44]\n",
            " [776.33]\n",
            " [774.25]\n",
            " [776.03]\n",
            " [779.31]\n",
            " [779.  ]\n",
            " [779.66]\n",
            " [777.71]\n",
            " [786.66]\n",
            " [783.76]\n",
            " [781.22]\n",
            " [781.65]\n",
            " [779.8 ]\n",
            " [787.85]\n",
            " [798.24]\n",
            " [803.3 ]\n",
            " [795.  ]\n",
            " [804.9 ]\n",
            " [816.68]\n",
            " [806.34]\n",
            " [801.  ]\n",
            " [808.35]\n",
            " [795.47]\n",
            " [782.89]\n",
            " [778.2 ]\n",
            " [767.25]\n",
            " [750.66]\n",
            " [774.5 ]\n",
            " [783.4 ]\n",
            " [779.94]\n",
            " [791.17]\n",
            " [756.54]\n",
            " [755.6 ]\n",
            " [746.97]\n",
            " [755.2 ]\n",
            " [766.92]\n",
            " [771.37]\n",
            " [762.61]\n",
            " [772.63]\n",
            " [767.73]\n",
            " [764.26]\n",
            " [760.  ]\n",
            " [771.53]\n",
            " [770.07]\n",
            " [757.44]\n",
            " [744.59]\n",
            " [757.71]\n",
            " [764.73]\n",
            " [761.  ]\n",
            " [772.48]\n",
            " [780.  ]\n",
            " [785.04]\n",
            " [793.9 ]\n",
            " [797.4 ]\n",
            " [797.34]\n",
            " [800.4 ]\n",
            " [790.22]\n",
            " [796.76]\n",
            " [795.84]\n",
            " [792.36]\n",
            " [790.9 ]\n",
            " [790.68]\n",
            " [793.7 ]\n",
            " [783.33]\n",
            " [782.75]\n",
            " [778.81]\n",
            " [788.36]\n",
            " [786.08]\n",
            " [795.26]\n",
            " [806.4 ]\n",
            " [807.86]\n",
            " [805.  ]\n",
            " [807.14]\n",
            " [807.48]\n",
            " [807.08]\n",
            " [805.81]\n",
            " [805.12]\n",
            " [806.91]\n",
            " [807.25]\n",
            " [822.3 ]\n",
            " [829.62]\n",
            " [837.81]\n",
            " [834.71]\n",
            " [814.66]\n",
            " [796.86]]\n"
          ],
          "name": "stdout"
        }
      ]
    },
    {
      "cell_type": "code",
      "metadata": {
        "id": "_kI0-miyDk2B",
        "colab_type": "code",
        "colab": {
          "base_uri": "https://localhost:8080/",
          "height": 181
        },
        "outputId": "db04e594-ceb3-443a-caa8-ac5e9fee43d4"
      },
      "source": [
        "#Feature Scaling using Normalization\n",
        "\n",
        "xscaler = MinMaxScaler()\n",
        "yscaler = MinMaxScaler()\n",
        "train_set = xscaler.fit_transform(train_set_org)\n",
        "test_set = yscaler.fit_transform(test_set_org)\n",
        "print(train_set[:5], test_set[:5])"
      ],
      "execution_count": null,
      "outputs": [
        {
          "output_type": "stream",
          "text": [
            "[[0.09272735]\n",
            " [0.10482833]\n",
            " [0.10193375]\n",
            " [0.09893865]\n",
            " [0.08627483]] [[0.26959285]\n",
            " [0.3198988 ]\n",
            " [0.37467639]\n",
            " [0.48605554]\n",
            " [0.68633796]]\n"
          ],
          "name": "stdout"
        }
      ]
    },
    {
      "cell_type": "code",
      "metadata": {
        "id": "fGVGyTnDC1cN",
        "colab_type": "code",
        "colab": {
          "base_uri": "https://localhost:8080/",
          "height": 35
        },
        "outputId": "f22e0921-7c59-4cc8-a3af-643809944cfa"
      },
      "source": [
        "#Getting the inputs\n",
        "\n",
        "time_steps = 100\n",
        "x_train, y_train = createDataset(train_set,time_steps)\n",
        "x_test, y_test = createDataset(test_set,time_steps)      \n",
        "x_train.shape         "
      ],
      "execution_count": null,
      "outputs": [
        {
          "output_type": "execute_result",
          "data": {
            "text/plain": [
              "(921, 100)"
            ]
          },
          "metadata": {
            "tags": []
          },
          "execution_count": 17
        }
      ]
    },
    {
      "cell_type": "code",
      "metadata": {
        "id": "OjrlV7IbC1cS",
        "colab_type": "code",
        "colab": {
          "base_uri": "https://localhost:8080/",
          "height": 54
        },
        "outputId": "18256f00-6861-478c-f5a9-543344b6817a"
      },
      "source": [
        "#Reshaping the data \n",
        "x_train = np.reshape(x_train, (x_train.shape[0], x_train.shape[1], 1)) # batch size, time steps, features \n",
        "print(x_train.shape)\n",
        "print(y_train.shape)"
      ],
      "execution_count": null,
      "outputs": [
        {
          "output_type": "stream",
          "text": [
            "(921, 100, 1)\n",
            "(921,)\n"
          ],
          "name": "stdout"
        }
      ]
    },
    {
      "cell_type": "code",
      "metadata": {
        "id": "7C4UiUD_C1cW",
        "colab_type": "code",
        "colab": {
          "base_uri": "https://localhost:8080/",
          "height": 35
        },
        "outputId": "33054185-821e-4b74-ce2a-6c90f4c4ca5e"
      },
      "source": [
        "#Initializing the RNN\n",
        "regressor = Sequential()\n",
        "\n",
        "#Adding the input layer and LSTM layer\n",
        "regressor.add(LSTM(units = 10, activation = 'sigmoid', input_shape = (time_steps, 1))) \n",
        "'''\n",
        "  - Sigmoid functions gives better results than tanh fucntion \n",
        "\n",
        "'''\n",
        "\n",
        "#Adding the output layer\n",
        "regressor.add(Dense(units = 1)) \n",
        "'''\n",
        "  - As we expect output n+1th day stock price, there will be only 1 Neuron so units = 1\n",
        "\n",
        "'''"
      ],
      "execution_count": null,
      "outputs": [
        {
          "output_type": "execute_result",
          "data": {
            "application/vnd.google.colaboratory.intrinsic+json": {
              "type": "string"
            },
            "text/plain": [
              "'\\n  - As we expect output n+1th day stock price, there will be only 1 Neuron so units = 1\\n\\n'"
            ]
          },
          "metadata": {
            "tags": []
          },
          "execution_count": 19
        }
      ]
    },
    {
      "cell_type": "code",
      "metadata": {
        "id": "8YmSVFBqPc8g",
        "colab_type": "code",
        "colab": {
          "base_uri": "https://localhost:8080/",
          "height": 1000
        },
        "outputId": "7a3f3315-8867-4523-de00-ad74156f453e"
      },
      "source": [
        "#Compiling the RNN\n",
        "\n",
        "regressor.compile(optimizer = 'adam', loss = 'mean_squared_error')\n",
        "\n",
        "#Fitting the RNN\n",
        "\n",
        "regressor.fit(x_train, y_train, batch_size = 32, epochs = 200)"
      ],
      "execution_count": null,
      "outputs": [
        {
          "output_type": "stream",
          "text": [
            "Epoch 1/200\n",
            "921/921 [==============================] - 2s 2ms/step - loss: 0.0743\n",
            "Epoch 2/200\n",
            "921/921 [==============================] - 1s 1ms/step - loss: 0.0390\n",
            "Epoch 3/200\n",
            "921/921 [==============================] - 1s 1ms/step - loss: 0.0362\n",
            "Epoch 4/200\n",
            "921/921 [==============================] - 1s 1ms/step - loss: 0.0340\n",
            "Epoch 5/200\n",
            "921/921 [==============================] - 1s 1ms/step - loss: 0.0316\n",
            "Epoch 6/200\n",
            "921/921 [==============================] - 1s 1ms/step - loss: 0.0290\n",
            "Epoch 7/200\n",
            "921/921 [==============================] - 1s 1ms/step - loss: 0.0263\n",
            "Epoch 8/200\n",
            "921/921 [==============================] - 1s 1ms/step - loss: 0.0236\n",
            "Epoch 9/200\n",
            "921/921 [==============================] - 1s 1ms/step - loss: 0.0207\n",
            "Epoch 10/200\n",
            "921/921 [==============================] - 1s 1ms/step - loss: 0.0178\n",
            "Epoch 11/200\n",
            "921/921 [==============================] - 1s 1ms/step - loss: 0.0149\n",
            "Epoch 12/200\n",
            "921/921 [==============================] - 1s 1ms/step - loss: 0.0119\n",
            "Epoch 13/200\n",
            "921/921 [==============================] - 1s 1ms/step - loss: 0.0092\n",
            "Epoch 14/200\n",
            "921/921 [==============================] - 1s 1ms/step - loss: 0.0069\n",
            "Epoch 15/200\n",
            "921/921 [==============================] - 1s 1ms/step - loss: 0.0047\n",
            "Epoch 16/200\n",
            "921/921 [==============================] - 1s 1ms/step - loss: 0.0032\n",
            "Epoch 17/200\n",
            "921/921 [==============================] - 1s 1ms/step - loss: 0.0020\n",
            "Epoch 18/200\n",
            "921/921 [==============================] - 1s 1ms/step - loss: 0.0013\n",
            "Epoch 19/200\n",
            "921/921 [==============================] - 1s 1ms/step - loss: 9.0467e-04\n",
            "Epoch 20/200\n",
            "921/921 [==============================] - 1s 1ms/step - loss: 6.9164e-04\n",
            "Epoch 21/200\n",
            "921/921 [==============================] - 1s 1ms/step - loss: 6.0611e-04\n",
            "Epoch 22/200\n",
            "921/921 [==============================] - 1s 1ms/step - loss: 5.5632e-04\n",
            "Epoch 23/200\n",
            "921/921 [==============================] - 1s 1ms/step - loss: 5.2964e-04\n",
            "Epoch 24/200\n",
            "921/921 [==============================] - 1s 1ms/step - loss: 5.2282e-04\n",
            "Epoch 25/200\n",
            "921/921 [==============================] - 1s 1ms/step - loss: 5.1890e-04\n",
            "Epoch 26/200\n",
            "921/921 [==============================] - 1s 1ms/step - loss: 5.1440e-04\n",
            "Epoch 27/200\n",
            "921/921 [==============================] - 1s 1ms/step - loss: 5.1750e-04\n",
            "Epoch 28/200\n",
            "921/921 [==============================] - 1s 1ms/step - loss: 5.1833e-04\n",
            "Epoch 29/200\n",
            "921/921 [==============================] - 1s 1ms/step - loss: 5.1122e-04\n",
            "Epoch 30/200\n",
            "921/921 [==============================] - 1s 1ms/step - loss: 5.2356e-04\n",
            "Epoch 31/200\n",
            "921/921 [==============================] - 1s 1ms/step - loss: 5.0841e-04\n",
            "Epoch 32/200\n",
            "921/921 [==============================] - 1s 1ms/step - loss: 5.1038e-04\n",
            "Epoch 33/200\n",
            "921/921 [==============================] - 1s 1ms/step - loss: 5.0984e-04\n",
            "Epoch 34/200\n",
            "921/921 [==============================] - 1s 1ms/step - loss: 5.0964e-04\n",
            "Epoch 35/200\n",
            "921/921 [==============================] - 1s 1ms/step - loss: 5.0355e-04\n",
            "Epoch 36/200\n",
            "921/921 [==============================] - 1s 941us/step - loss: 4.9910e-04\n",
            "Epoch 37/200\n",
            "921/921 [==============================] - 1s 951us/step - loss: 5.0265e-04\n",
            "Epoch 38/200\n",
            "921/921 [==============================] - 1s 954us/step - loss: 4.9850e-04\n",
            "Epoch 39/200\n",
            "921/921 [==============================] - 1s 952us/step - loss: 5.0266e-04\n",
            "Epoch 40/200\n",
            "921/921 [==============================] - 1s 944us/step - loss: 4.9155e-04\n",
            "Epoch 41/200\n",
            "921/921 [==============================] - 1s 951us/step - loss: 4.9685e-04\n",
            "Epoch 42/200\n",
            "921/921 [==============================] - 1s 934us/step - loss: 4.9454e-04\n",
            "Epoch 43/200\n",
            "921/921 [==============================] - 1s 945us/step - loss: 4.9667e-04\n",
            "Epoch 44/200\n",
            "921/921 [==============================] - 1s 933us/step - loss: 4.8918e-04\n",
            "Epoch 45/200\n",
            "921/921 [==============================] - 1s 943us/step - loss: 4.8592e-04\n",
            "Epoch 46/200\n",
            "921/921 [==============================] - 1s 992us/step - loss: 5.2124e-04\n",
            "Epoch 47/200\n",
            "921/921 [==============================] - 1s 1ms/step - loss: 4.9365e-04\n",
            "Epoch 48/200\n",
            "921/921 [==============================] - 1s 948us/step - loss: 4.8921e-04\n",
            "Epoch 49/200\n",
            "921/921 [==============================] - 1s 950us/step - loss: 4.8644e-04\n",
            "Epoch 50/200\n",
            "921/921 [==============================] - 1s 930us/step - loss: 4.9523e-04\n",
            "Epoch 51/200\n",
            "921/921 [==============================] - 1s 965us/step - loss: 4.8508e-04\n",
            "Epoch 52/200\n",
            "921/921 [==============================] - 1s 947us/step - loss: 4.9159e-04\n",
            "Epoch 53/200\n",
            "921/921 [==============================] - 1s 953us/step - loss: 4.7304e-04\n",
            "Epoch 54/200\n",
            "921/921 [==============================] - 1s 939us/step - loss: 4.7687e-04\n",
            "Epoch 55/200\n",
            "921/921 [==============================] - 1s 962us/step - loss: 4.7226e-04\n",
            "Epoch 56/200\n",
            "921/921 [==============================] - 1s 953us/step - loss: 4.7820e-04\n",
            "Epoch 57/200\n",
            "921/921 [==============================] - 1s 951us/step - loss: 4.7580e-04\n",
            "Epoch 58/200\n",
            "921/921 [==============================] - 1s 962us/step - loss: 4.8219e-04\n",
            "Epoch 59/200\n",
            "921/921 [==============================] - 1s 946us/step - loss: 4.7971e-04\n",
            "Epoch 60/200\n",
            "921/921 [==============================] - 1s 1ms/step - loss: 4.7178e-04\n",
            "Epoch 61/200\n",
            "921/921 [==============================] - 1s 921us/step - loss: 4.7409e-04\n",
            "Epoch 62/200\n",
            "921/921 [==============================] - 1s 934us/step - loss: 4.9222e-04\n",
            "Epoch 63/200\n",
            "921/921 [==============================] - 1s 945us/step - loss: 4.6100e-04\n",
            "Epoch 64/200\n",
            "921/921 [==============================] - 1s 952us/step - loss: 4.6377e-04\n",
            "Epoch 65/200\n",
            "921/921 [==============================] - 1s 931us/step - loss: 4.9046e-04\n",
            "Epoch 66/200\n",
            "921/921 [==============================] - 1s 936us/step - loss: 4.9246e-04\n",
            "Epoch 67/200\n",
            "921/921 [==============================] - 1s 934us/step - loss: 5.0944e-04\n",
            "Epoch 68/200\n",
            "921/921 [==============================] - 1s 930us/step - loss: 4.7836e-04\n",
            "Epoch 69/200\n",
            "921/921 [==============================] - 1s 971us/step - loss: 4.5704e-04\n",
            "Epoch 70/200\n",
            "921/921 [==============================] - 1s 954us/step - loss: 4.6480e-04\n",
            "Epoch 71/200\n",
            "921/921 [==============================] - 1s 933us/step - loss: 4.7491e-04\n",
            "Epoch 72/200\n",
            "921/921 [==============================] - 1s 959us/step - loss: 4.5622e-04\n",
            "Epoch 73/200\n",
            "921/921 [==============================] - 1s 965us/step - loss: 4.5154e-04\n",
            "Epoch 74/200\n",
            "921/921 [==============================] - 1s 951us/step - loss: 4.5848e-04\n",
            "Epoch 75/200\n",
            "921/921 [==============================] - 1s 977us/step - loss: 4.4993e-04\n",
            "Epoch 76/200\n",
            "921/921 [==============================] - 1s 966us/step - loss: 4.5460e-04\n",
            "Epoch 77/200\n",
            "921/921 [==============================] - 1s 959us/step - loss: 4.4767e-04\n",
            "Epoch 78/200\n",
            "921/921 [==============================] - 1s 978us/step - loss: 4.8146e-04\n",
            "Epoch 79/200\n",
            "921/921 [==============================] - 1s 992us/step - loss: 4.6362e-04\n",
            "Epoch 80/200\n",
            "921/921 [==============================] - 1s 1ms/step - loss: 4.5088e-04\n",
            "Epoch 81/200\n",
            "921/921 [==============================] - 1s 1ms/step - loss: 4.4024e-04\n",
            "Epoch 82/200\n",
            "921/921 [==============================] - 1s 1ms/step - loss: 4.5554e-04\n",
            "Epoch 83/200\n",
            "921/921 [==============================] - 1s 996us/step - loss: 4.5967e-04\n",
            "Epoch 84/200\n",
            "921/921 [==============================] - 1s 964us/step - loss: 4.4466e-04\n",
            "Epoch 85/200\n",
            "921/921 [==============================] - 1s 1ms/step - loss: 4.3978e-04\n",
            "Epoch 86/200\n",
            "921/921 [==============================] - 1s 993us/step - loss: 4.3949e-04\n",
            "Epoch 87/200\n",
            "921/921 [==============================] - 1s 992us/step - loss: 4.4138e-04\n",
            "Epoch 88/200\n",
            "921/921 [==============================] - 1s 1ms/step - loss: 4.3442e-04\n",
            "Epoch 89/200\n",
            "921/921 [==============================] - 1s 972us/step - loss: 4.3263e-04\n",
            "Epoch 90/200\n",
            "921/921 [==============================] - 1s 975us/step - loss: 4.4546e-04\n",
            "Epoch 91/200\n",
            "921/921 [==============================] - 1s 991us/step - loss: 4.3636e-04\n",
            "Epoch 92/200\n",
            "921/921 [==============================] - 1s 990us/step - loss: 4.3448e-04\n",
            "Epoch 93/200\n",
            "921/921 [==============================] - 1s 1ms/step - loss: 4.6191e-04\n",
            "Epoch 94/200\n",
            "921/921 [==============================] - 1s 974us/step - loss: 4.4501e-04\n",
            "Epoch 95/200\n",
            "921/921 [==============================] - 1s 973us/step - loss: 4.3826e-04\n",
            "Epoch 96/200\n",
            "921/921 [==============================] - 1s 1ms/step - loss: 4.4596e-04\n",
            "Epoch 97/200\n",
            "921/921 [==============================] - 1s 962us/step - loss: 4.3143e-04\n",
            "Epoch 98/200\n",
            "921/921 [==============================] - 1s 992us/step - loss: 4.3541e-04\n",
            "Epoch 99/200\n",
            "921/921 [==============================] - 1s 997us/step - loss: 4.5391e-04\n",
            "Epoch 100/200\n",
            "921/921 [==============================] - 1s 958us/step - loss: 4.4001e-04\n",
            "Epoch 101/200\n",
            "921/921 [==============================] - 1s 954us/step - loss: 4.3177e-04\n",
            "Epoch 102/200\n",
            "921/921 [==============================] - 1s 949us/step - loss: 4.5199e-04\n",
            "Epoch 103/200\n",
            "921/921 [==============================] - 1s 960us/step - loss: 4.2244e-04\n",
            "Epoch 104/200\n",
            "921/921 [==============================] - 1s 965us/step - loss: 4.1718e-04\n",
            "Epoch 105/200\n",
            "921/921 [==============================] - 1s 994us/step - loss: 4.2774e-04\n",
            "Epoch 106/200\n",
            "921/921 [==============================] - 1s 933us/step - loss: 4.2367e-04\n",
            "Epoch 107/200\n",
            "921/921 [==============================] - 1s 957us/step - loss: 4.2622e-04\n",
            "Epoch 108/200\n",
            "921/921 [==============================] - 1s 951us/step - loss: 4.1744e-04\n",
            "Epoch 109/200\n",
            "921/921 [==============================] - 1s 962us/step - loss: 4.1726e-04\n",
            "Epoch 110/200\n",
            "921/921 [==============================] - 1s 928us/step - loss: 4.1550e-04\n",
            "Epoch 111/200\n",
            "921/921 [==============================] - 1s 961us/step - loss: 4.1891e-04\n",
            "Epoch 112/200\n",
            "921/921 [==============================] - 1s 949us/step - loss: 4.0932e-04\n",
            "Epoch 113/200\n",
            "921/921 [==============================] - 1s 940us/step - loss: 4.1510e-04\n",
            "Epoch 114/200\n",
            "921/921 [==============================] - 1s 954us/step - loss: 4.1348e-04\n",
            "Epoch 115/200\n",
            "921/921 [==============================] - 1s 976us/step - loss: 4.0699e-04\n",
            "Epoch 116/200\n",
            "921/921 [==============================] - 1s 969us/step - loss: 4.2307e-04\n",
            "Epoch 117/200\n",
            "921/921 [==============================] - 1s 972us/step - loss: 4.0801e-04\n",
            "Epoch 118/200\n",
            "921/921 [==============================] - 1s 934us/step - loss: 4.2446e-04\n",
            "Epoch 119/200\n",
            "921/921 [==============================] - 1s 1ms/step - loss: 4.0953e-04\n",
            "Epoch 120/200\n",
            "921/921 [==============================] - 1s 971us/step - loss: 4.1071e-04\n",
            "Epoch 121/200\n",
            "921/921 [==============================] - 1s 962us/step - loss: 4.4608e-04\n",
            "Epoch 122/200\n",
            "921/921 [==============================] - 1s 952us/step - loss: 4.1306e-04\n",
            "Epoch 123/200\n",
            "921/921 [==============================] - 1s 950us/step - loss: 4.1286e-04\n",
            "Epoch 124/200\n",
            "921/921 [==============================] - 1s 956us/step - loss: 4.1553e-04\n",
            "Epoch 125/200\n",
            "921/921 [==============================] - 1s 950us/step - loss: 3.9892e-04\n",
            "Epoch 126/200\n",
            "921/921 [==============================] - 1s 936us/step - loss: 4.1361e-04\n",
            "Epoch 127/200\n",
            "921/921 [==============================] - 1s 946us/step - loss: 4.0830e-04\n",
            "Epoch 128/200\n",
            "921/921 [==============================] - 1s 938us/step - loss: 3.9869e-04\n",
            "Epoch 129/200\n",
            "921/921 [==============================] - 1s 943us/step - loss: 4.2753e-04\n",
            "Epoch 130/200\n",
            "921/921 [==============================] - 1s 977us/step - loss: 4.1148e-04\n",
            "Epoch 131/200\n",
            "921/921 [==============================] - 1s 934us/step - loss: 3.9573e-04\n",
            "Epoch 132/200\n",
            "921/921 [==============================] - 1s 953us/step - loss: 4.0044e-04\n",
            "Epoch 133/200\n",
            "921/921 [==============================] - 1s 946us/step - loss: 4.0078e-04\n",
            "Epoch 134/200\n",
            "921/921 [==============================] - 1s 939us/step - loss: 3.9533e-04\n",
            "Epoch 135/200\n",
            "921/921 [==============================] - 1s 947us/step - loss: 3.9229e-04\n",
            "Epoch 136/200\n",
            "921/921 [==============================] - 1s 984us/step - loss: 3.9849e-04\n",
            "Epoch 137/200\n",
            "921/921 [==============================] - 1s 969us/step - loss: 3.9648e-04\n",
            "Epoch 138/200\n",
            "921/921 [==============================] - 1s 938us/step - loss: 3.9747e-04\n",
            "Epoch 139/200\n",
            "921/921 [==============================] - 1s 957us/step - loss: 4.0075e-04\n",
            "Epoch 140/200\n",
            "921/921 [==============================] - 1s 939us/step - loss: 3.9162e-04\n",
            "Epoch 141/200\n",
            "921/921 [==============================] - 1s 950us/step - loss: 4.0758e-04\n",
            "Epoch 142/200\n",
            "921/921 [==============================] - 1s 971us/step - loss: 3.9387e-04\n",
            "Epoch 143/200\n",
            "921/921 [==============================] - 1s 963us/step - loss: 3.9607e-04\n",
            "Epoch 144/200\n",
            "921/921 [==============================] - 1s 997us/step - loss: 3.8578e-04\n",
            "Epoch 145/200\n",
            "921/921 [==============================] - 1s 966us/step - loss: 3.8479e-04\n",
            "Epoch 146/200\n",
            "921/921 [==============================] - 1s 946us/step - loss: 3.9959e-04\n",
            "Epoch 147/200\n",
            "921/921 [==============================] - 1s 953us/step - loss: 3.8418e-04\n",
            "Epoch 148/200\n",
            "921/921 [==============================] - 1s 934us/step - loss: 3.8811e-04\n",
            "Epoch 149/200\n",
            "921/921 [==============================] - 1s 938us/step - loss: 3.7993e-04\n",
            "Epoch 150/200\n",
            "921/921 [==============================] - 1s 938us/step - loss: 3.8232e-04\n",
            "Epoch 151/200\n",
            "921/921 [==============================] - 1s 979us/step - loss: 3.8496e-04\n",
            "Epoch 152/200\n",
            "921/921 [==============================] - 1s 951us/step - loss: 3.8068e-04\n",
            "Epoch 153/200\n",
            "921/921 [==============================] - 1s 955us/step - loss: 3.8222e-04\n",
            "Epoch 154/200\n",
            "921/921 [==============================] - 1s 957us/step - loss: 3.8166e-04\n",
            "Epoch 155/200\n",
            "921/921 [==============================] - 1s 968us/step - loss: 3.8917e-04\n",
            "Epoch 156/200\n",
            "921/921 [==============================] - 1s 947us/step - loss: 3.8434e-04\n",
            "Epoch 157/200\n",
            "921/921 [==============================] - 1s 963us/step - loss: 4.1385e-04\n",
            "Epoch 158/200\n",
            "921/921 [==============================] - 1s 978us/step - loss: 3.8849e-04\n",
            "Epoch 159/200\n",
            "921/921 [==============================] - 1s 972us/step - loss: 3.7913e-04\n",
            "Epoch 160/200\n",
            "921/921 [==============================] - 1s 934us/step - loss: 3.7589e-04\n",
            "Epoch 161/200\n",
            "921/921 [==============================] - 1s 972us/step - loss: 3.8777e-04\n",
            "Epoch 162/200\n",
            "921/921 [==============================] - 1s 938us/step - loss: 4.1113e-04\n",
            "Epoch 163/200\n",
            "921/921 [==============================] - 1s 940us/step - loss: 3.8615e-04\n",
            "Epoch 164/200\n",
            "921/921 [==============================] - 1s 942us/step - loss: 3.8458e-04\n",
            "Epoch 165/200\n",
            "921/921 [==============================] - 1s 922us/step - loss: 3.7140e-04\n",
            "Epoch 166/200\n",
            "921/921 [==============================] - 1s 937us/step - loss: 3.8910e-04\n",
            "Epoch 167/200\n",
            "921/921 [==============================] - 1s 980us/step - loss: 3.7178e-04\n",
            "Epoch 168/200\n",
            "921/921 [==============================] - 1s 966us/step - loss: 3.7781e-04\n",
            "Epoch 169/200\n",
            "921/921 [==============================] - 1s 946us/step - loss: 3.7891e-04\n",
            "Epoch 170/200\n",
            "921/921 [==============================] - 1s 968us/step - loss: 3.7702e-04\n",
            "Epoch 171/200\n",
            "921/921 [==============================] - 1s 931us/step - loss: 3.7541e-04\n",
            "Epoch 172/200\n",
            "921/921 [==============================] - 1s 994us/step - loss: 3.8335e-04\n",
            "Epoch 173/200\n",
            "921/921 [==============================] - 1s 947us/step - loss: 3.6736e-04\n",
            "Epoch 174/200\n",
            "921/921 [==============================] - 1s 930us/step - loss: 3.8535e-04\n",
            "Epoch 175/200\n",
            "921/921 [==============================] - 1s 938us/step - loss: 3.9090e-04\n",
            "Epoch 176/200\n",
            "921/921 [==============================] - 1s 935us/step - loss: 3.8666e-04\n",
            "Epoch 177/200\n",
            "921/921 [==============================] - 1s 967us/step - loss: 3.7792e-04\n",
            "Epoch 178/200\n",
            "921/921 [==============================] - 1s 993us/step - loss: 3.7173e-04\n",
            "Epoch 179/200\n",
            "921/921 [==============================] - 1s 943us/step - loss: 3.6109e-04\n",
            "Epoch 180/200\n",
            "921/921 [==============================] - 1s 974us/step - loss: 3.6192e-04\n",
            "Epoch 181/200\n",
            "921/921 [==============================] - 1s 951us/step - loss: 3.6727e-04\n",
            "Epoch 182/200\n",
            "921/921 [==============================] - 1s 953us/step - loss: 3.6990e-04\n",
            "Epoch 183/200\n",
            "921/921 [==============================] - 1s 940us/step - loss: 3.6507e-04\n",
            "Epoch 184/200\n",
            "921/921 [==============================] - 1s 994us/step - loss: 3.5590e-04\n",
            "Epoch 185/200\n",
            "921/921 [==============================] - 1s 977us/step - loss: 3.5793e-04\n",
            "Epoch 186/200\n",
            "921/921 [==============================] - 1s 984us/step - loss: 3.5902e-04\n",
            "Epoch 187/200\n",
            "921/921 [==============================] - 1s 935us/step - loss: 3.8426e-04\n",
            "Epoch 188/200\n",
            "921/921 [==============================] - 1s 971us/step - loss: 3.7406e-04\n",
            "Epoch 189/200\n",
            "921/921 [==============================] - 1s 953us/step - loss: 3.6496e-04\n",
            "Epoch 190/200\n",
            "921/921 [==============================] - 1s 965us/step - loss: 3.8951e-04\n",
            "Epoch 191/200\n",
            "921/921 [==============================] - 1s 946us/step - loss: 3.7046e-04\n",
            "Epoch 192/200\n",
            "921/921 [==============================] - 1s 1ms/step - loss: 3.5816e-04\n",
            "Epoch 193/200\n",
            "921/921 [==============================] - 1s 955us/step - loss: 3.6248e-04\n",
            "Epoch 194/200\n",
            "921/921 [==============================] - 1s 958us/step - loss: 3.6963e-04\n",
            "Epoch 195/200\n",
            "921/921 [==============================] - 1s 953us/step - loss: 3.5761e-04\n",
            "Epoch 196/200\n",
            "921/921 [==============================] - 1s 958us/step - loss: 3.5766e-04\n",
            "Epoch 197/200\n",
            "921/921 [==============================] - 1s 925us/step - loss: 3.5054e-04\n",
            "Epoch 198/200\n",
            "921/921 [==============================] - 1s 933us/step - loss: 3.4564e-04\n",
            "Epoch 199/200\n",
            "921/921 [==============================] - 1s 945us/step - loss: 3.6768e-04\n",
            "Epoch 200/200\n",
            "921/921 [==============================] - 1s 929us/step - loss: 3.4972e-04\n"
          ],
          "name": "stdout"
        },
        {
          "output_type": "execute_result",
          "data": {
            "text/plain": [
              "<keras.callbacks.callbacks.History at 0x7fad12b33588>"
            ]
          },
          "metadata": {
            "tags": []
          },
          "execution_count": 20
        }
      ]
    },
    {
      "cell_type": "code",
      "metadata": {
        "id": "62zY6Hd7BsLl",
        "colab_type": "code",
        "colab": {
          "base_uri": "https://localhost:8080/",
          "height": 181
        },
        "outputId": "be75ae45-e1e4-4f67-be7e-917ec27a3f2f"
      },
      "source": [
        "#Predicting the stock price\n",
        "\n",
        "inputs = x_test\n",
        "inputs = np.reshape(inputs, (inputs.shape[0],inputs.shape[1],1))\n",
        "predicted_stock_price = regressor.predict(inputs)\n",
        "predicted_stock_price = yscaler.inverse_transform(predicted_stock_price)\n",
        "y_test = yscaler.inverse_transform(y_test.reshape(-1,1))\n",
        "print(predicted_stock_price[:5], y_test[:5])"
      ],
      "execution_count": null,
      "outputs": [
        {
          "output_type": "stream",
          "text": [
            "[[712.62976]\n",
            " [705.28436]\n",
            " [702.9425 ]\n",
            " [702.2493 ]\n",
            " [700.64056]] [[698.77]\n",
            " [698.4 ]\n",
            " [699.06]\n",
            " [697.45]\n",
            " [675.17]]\n"
          ],
          "name": "stdout"
        }
      ]
    },
    {
      "cell_type": "code",
      "metadata": {
        "id": "DdpPZifuGC17",
        "colab_type": "code",
        "colab": {
          "base_uri": "https://localhost:8080/",
          "height": 35
        },
        "outputId": "b6e59ece-2680-4f20-fd2e-8fab2350a905"
      },
      "source": [
        "math.sqrt(mean_squared_error(y_test,predicted_stock_price))"
      ],
      "execution_count": null,
      "outputs": [
        {
          "output_type": "execute_result",
          "data": {
            "text/plain": [
              "8.702532747733054"
            ]
          },
          "metadata": {
            "tags": []
          },
          "execution_count": 22
        }
      ]
    },
    {
      "cell_type": "code",
      "metadata": {
        "id": "SxvbflYwC9YA",
        "colab_type": "code",
        "colab": {
          "base_uri": "https://localhost:8080/",
          "height": 295
        },
        "outputId": "fcf08c65-6e2b-4d2f-c849-d6cfb8adfeee"
      },
      "source": [
        "#Visualizing the results\n",
        "\n",
        "plt.plot(y_test, color = 'red', label = \"Actual price\")\n",
        "plt.plot(predicted_stock_price, color = \"blue\", label = \"Predicted price\")\n",
        "plt.title(\"Stock Price Prediction\")\n",
        "plt.xlabel(\"Days\")\n",
        "plt.ylabel(\"Stock price\")\n",
        "plt.legend()\n",
        "plt.show()"
      ],
      "execution_count": null,
      "outputs": [
        {
          "output_type": "display_data",
          "data": {
            "image/png": "[encoded data removed]",
            "text/plain": [
              "<Figure size 432x288 with 1 Axes>"
            ]
          },
          "metadata": {
            "tags": [],
            "needs_background": "light"
          }
        }
      ]
    },
    {
      "cell_type": "code",
      "metadata": {
        "id": "5isvhyvDtfx3",
        "colab_type": "code",
        "colab": {
          "base_uri": "https://localhost:8080/",
          "height": 108
        },
        "outputId": "d51300aa-68de-474f-fa02-43b13e1a60c8"
      },
      "source": [
        "real_stock_price = training_set.iloc[:,1:2].values\n",
        "real_stock_price[:5]"
      ],
      "execution_count": null,
      "outputs": [
        {
          "output_type": "execute_result",
          "data": {
            "text/plain": [
              "array([[325.25],\n",
              "       [331.27],\n",
              "       [329.83],\n",
              "       [328.34],\n",
              "       [322.04]])"
            ]
          },
          "metadata": {
            "tags": []
          },
          "execution_count": 25
        }
      ]
    },
    {
      "cell_type": "code",
      "metadata": {
        "id": "uwEQhqVIt8dG",
        "colab_type": "code",
        "colab": {
          "base_uri": "https://localhost:8080/",
          "height": 108
        },
        "outputId": "5ae0967f-c515-4af2-ba7c-201487ed451b"
      },
      "source": [
        "predicted_stock_price_train = regressor.predict(x_train)\n",
        "predicted_stock_price_train = xscaler.inverse_transform(predicted_stock_price_train)\n",
        "predicted_stock_price_train[:5]"
      ],
      "execution_count": null,
      "outputs": [
        {
          "output_type": "execute_result",
          "data": {
            "text/plain": [
              "array([[306.25735],\n",
              "       [304.00574],\n",
              "       [301.8678 ],\n",
              "       [298.93515],\n",
              "       [298.23416]], dtype=float32)"
            ]
          },
          "metadata": {
            "tags": []
          },
          "execution_count": 26
        }
      ]
    },
    {
      "cell_type": "code",
      "metadata": {
        "id": "z7Fi8nmyvXIs",
        "colab_type": "code",
        "colab": {
          "base_uri": "https://localhost:8080/",
          "height": 335
        },
        "outputId": "1499a3f2-9457-4f42-bd06-7bc2d6858db4"
      },
      "source": [
        "#Visualizing the results\n",
        "plt.figure(figsize = (20,5))\n",
        "plt.plot(real_stock_price[time_steps+1:], color = 'red', label = \"Acutal price\")\n",
        "plt.plot(predicted_stock_price_train, color = \"blue\", label = \"Predicted price\")\n",
        "plt.title(\"Stock Price Prediction\")\n",
        "plt.xlabel(\"Days\")\n",
        "plt.ylabel(\"Stock price\")\n",
        "plt.legend()\n",
        "plt.show()"
      ],
      "execution_count": null,
      "outputs": [
        {
          "output_type": "display_data",
          "data": {
            "image/png": "[encoded data removed]",
            "text/plain": [
              "<Figure size 1440x360 with 1 Axes>"
            ]
          },
          "metadata": {
            "tags": [],
            "needs_background": "light"
          }
        }
      ]
    },
    {
      "cell_type": "code",
      "metadata": {
        "id": "8-DqQWvwuVt8",
        "colab_type": "code",
        "colab": {
          "resources": {
            "http://localhost:8080/nbextensions/google.colab/files.js": {
              "data": "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",
              "ok": true,
              "headers": [
                [
                  "content-type",
                  "application/javascript"
                ]
              ],
              "status": 200,
              "status_text": ""
            }
          },
          "base_uri": "https://localhost:8080/",
          "height": 73
        },
        "outputId": "1e8adfc4-81c1-45c6-fa33-715c939257de"
      },
      "source": [
        "from google.colab import files\n",
        "uploaded = files.upload()"
      ],
      "execution_count": null,
      "outputs": [
        {
          "output_type": "display_data",
          "data": {
            "text/html": [
              "\n",
              "     <input type=\"file\" id=\"files-2c8e2ec6-6c4d-4ebe-a6e8-eac6ad454c59\" name=\"files[]\" multiple disabled\n",
              "        style=\"border:none\" />\n",
              "     <output id=\"result-2c8e2ec6-6c4d-4ebe-a6e8-eac6ad454c59\">\n",
              "      Upload widget is only available when the cell has been executed in the\n",
              "      current browser session. Please rerun this cell to enable.\n",
              "      </output>\n",
              "      <script src=\"/nbextensions/google.colab/files.js\"></script> "
            ],
            "text/plain": [
              "<IPython.core.display.HTML object>"
            ]
          },
          "metadata": {
            "tags": []
          }
        },
        {
          "output_type": "stream",
          "text": [
            "Saving Google_Stock_Validate.csv to Google_Stock_Validate (1).csv\n"
          ],
          "name": "stdout"
        }
      ]
    },
    {
      "cell_type": "code",
      "metadata": {
        "id": "BE6Wea2I98xr",
        "colab_type": "code",
        "colab": {
          "base_uri": "https://localhost:8080/",
          "height": 407
        },
        "outputId": "8cff374f-58b4-4dbb-8cf9-3f9368dd4ed3"
      },
      "source": [
        "import io\n",
        "latest_dataset1 = pd.read_csv(io.BytesIO(uploaded['Google_Stock_Validate.csv']))\n",
        "latest_dataset1"
      ],
      "execution_count": null,
      "outputs": [
        {
          "output_type": "execute_result",
          "data": {
            "text/html": [
              "<div>\n",
              "<style scoped>\n",
              "    .dataframe tbody tr th:only-of-type {\n",
              "        vertical-align: middle;\n",
              "    }\n",
              "\n",
              "    .dataframe tbody tr th {\n",
              "        vertical-align: top;\n",
              "    }\n",
              "\n",
              "    .dataframe thead th {\n",
              "        text-align: right;\n",
              "    }\n",
              "</style>\n",
              "<table border=\"1\" class=\"dataframe\">\n",
              "  <thead>\n",
              "    <tr style=\"text-align: right;\">\n",
              "      <th></th>\n",
              "      <th>Date</th>\n",
              "      <th>Open</th>\n",
              "      <th>High</th>\n",
              "      <th>Low</th>\n",
              "      <th>Close</th>\n",
              "      <th>Adj Close</th>\n",
              "      <th>Volume</th>\n",
              "    </tr>\n",
              "  </thead>\n",
              "  <tbody>\n",
              "    <tr>\n",
              "      <th>0</th>\n",
              "      <td>2020-02-03</td>\n",
              "      <td>1462.000000</td>\n",
              "      <td>1490.000000</td>\n",
              "      <td>1458.989990</td>\n",
              "      <td>1485.939941</td>\n",
              "      <td>1485.939941</td>\n",
              "      <td>3055200</td>\n",
              "    </tr>\n",
              "    <tr>\n",
              "      <th>1</th>\n",
              "      <td>2020-02-04</td>\n",
              "      <td>1457.069946</td>\n",
              "      <td>1469.500000</td>\n",
              "      <td>1426.300049</td>\n",
              "      <td>1447.069946</td>\n",
              "      <td>1447.069946</td>\n",
              "      <td>3933000</td>\n",
              "    </tr>\n",
              "    <tr>\n",
              "      <th>2</th>\n",
              "      <td>2020-02-05</td>\n",
              "      <td>1462.420044</td>\n",
              "      <td>1463.839966</td>\n",
              "      <td>1430.560059</td>\n",
              "      <td>1448.229980</td>\n",
              "      <td>1448.229980</td>\n",
              "      <td>1986200</td>\n",
              "    </tr>\n",
              "    <tr>\n",
              "      <th>3</th>\n",
              "      <td>2020-02-06</td>\n",
              "      <td>1450.329956</td>\n",
              "      <td>1482.000000</td>\n",
              "      <td>1449.569946</td>\n",
              "      <td>1476.229980</td>\n",
              "      <td>1476.229980</td>\n",
              "      <td>1679400</td>\n",
              "    </tr>\n",
              "    <tr>\n",
              "      <th>4</th>\n",
              "      <td>2020-02-07</td>\n",
              "      <td>1467.300049</td>\n",
              "      <td>1485.839966</td>\n",
              "      <td>1466.349976</td>\n",
              "      <td>1479.229980</td>\n",
              "      <td>1479.229980</td>\n",
              "      <td>1172300</td>\n",
              "    </tr>\n",
              "    <tr>\n",
              "      <th>...</th>\n",
              "      <td>...</td>\n",
              "      <td>...</td>\n",
              "      <td>...</td>\n",
              "      <td>...</td>\n",
              "      <td>...</td>\n",
              "      <td>...</td>\n",
              "      <td>...</td>\n",
              "    </tr>\n",
              "    <tr>\n",
              "      <th>97</th>\n",
              "      <td>2020-06-22</td>\n",
              "      <td>1429.000000</td>\n",
              "      <td>1452.750000</td>\n",
              "      <td>1423.209961</td>\n",
              "      <td>1451.859985</td>\n",
              "      <td>1451.859985</td>\n",
              "      <td>1542400</td>\n",
              "    </tr>\n",
              "    <tr>\n",
              "      <th>98</th>\n",
              "      <td>2020-06-23</td>\n",
              "      <td>1455.640015</td>\n",
              "      <td>1475.941040</td>\n",
              "      <td>1445.239990</td>\n",
              "      <td>1464.410034</td>\n",
              "      <td>1464.410034</td>\n",
              "      <td>1429800</td>\n",
              "    </tr>\n",
              "    <tr>\n",
              "      <th>99</th>\n",
              "      <td>2020-06-24</td>\n",
              "      <td>1461.510010</td>\n",
              "      <td>1475.420044</td>\n",
              "      <td>1429.750000</td>\n",
              "      <td>1431.969971</td>\n",
              "      <td>1431.969971</td>\n",
              "      <td>1756000</td>\n",
              "    </tr>\n",
              "    <tr>\n",
              "      <th>100</th>\n",
              "      <td>2020-06-25</td>\n",
              "      <td>1429.900024</td>\n",
              "      <td>1442.900024</td>\n",
              "      <td>1420.000000</td>\n",
              "      <td>1441.329956</td>\n",
              "      <td>1441.329956</td>\n",
              "      <td>1230500</td>\n",
              "    </tr>\n",
              "    <tr>\n",
              "      <th>101</th>\n",
              "      <td>2020-06-26</td>\n",
              "      <td>1431.390015</td>\n",
              "      <td>1433.449951</td>\n",
              "      <td>1351.989990</td>\n",
              "      <td>1359.900024</td>\n",
              "      <td>1359.900024</td>\n",
              "      <td>4267700</td>\n",
              "    </tr>\n",
              "  </tbody>\n",
              "</table>\n",
              "<p>102 rows × 7 columns</p>\n",
              "</div>"
            ],
            "text/plain": [
              "           Date         Open         High  ...        Close    Adj Close   Volume\n",
              "0    2020-02-03  1462.000000  1490.000000  ...  1485.939941  1485.939941  3055200\n",
              "1    2020-02-04  1457.069946  1469.500000  ...  1447.069946  1447.069946  3933000\n",
              "2    2020-02-05  1462.420044  1463.839966  ...  1448.229980  1448.229980  1986200\n",
              "3    2020-02-06  1450.329956  1482.000000  ...  1476.229980  1476.229980  1679400\n",
              "4    2020-02-07  1467.300049  1485.839966  ...  1479.229980  1479.229980  1172300\n",
              "..          ...          ...          ...  ...          ...          ...      ...\n",
              "97   2020-06-22  1429.000000  1452.750000  ...  1451.859985  1451.859985  1542400\n",
              "98   2020-06-23  1455.640015  1475.941040  ...  1464.410034  1464.410034  1429800\n",
              "99   2020-06-24  1461.510010  1475.420044  ...  1431.969971  1431.969971  1756000\n",
              "100  2020-06-25  1429.900024  1442.900024  ...  1441.329956  1441.329956  1230500\n",
              "101  2020-06-26  1431.390015  1433.449951  ...  1359.900024  1359.900024  4267700\n",
              "\n",
              "[102 rows x 7 columns]"
            ]
          },
          "metadata": {
            "tags": []
          },
          "execution_count": 30
        }
      ]
    },
    {
      "cell_type": "code",
      "metadata": {
        "id": "MUCVuPKqS4QM",
        "colab_type": "code",
        "colab": {
          "base_uri": "https://localhost:8080/",
          "height": 35
        },
        "outputId": "a84a3b3c-bbd4-4b0d-bc04-00c03503d2a1"
      },
      "source": [
        "realprice = latest_dataset1[time_steps:time_steps+1].iloc[:,1:2].values\n",
        "realprice"
      ],
      "execution_count": null,
      "outputs": [
        {
          "output_type": "execute_result",
          "data": {
            "text/plain": [
              "array([[1429.900024]])"
            ]
          },
          "metadata": {
            "tags": []
          },
          "execution_count": 32
        }
      ]
    },
    {
      "cell_type": "code",
      "metadata": {
        "id": "qwehj0byyXR0",
        "colab_type": "code",
        "colab": {
          "base_uri": "https://localhost:8080/",
          "height": 407
        },
        "outputId": "496e5d14-8444-4f1a-c833-993347d69fe6"
      },
      "source": [
        "latest_dataset = latest_dataset1[:time_steps]\n",
        "latest_dataset"
      ],
      "execution_count": null,
      "outputs": [
        {
          "output_type": "execute_result",
          "data": {
            "text/html": [
              "<div>\n",
              "<style scoped>\n",
              "    .dataframe tbody tr th:only-of-type {\n",
              "        vertical-align: middle;\n",
              "    }\n",
              "\n",
              "    .dataframe tbody tr th {\n",
              "        vertical-align: top;\n",
              "    }\n",
              "\n",
              "    .dataframe thead th {\n",
              "        text-align: right;\n",
              "    }\n",
              "</style>\n",
              "<table border=\"1\" class=\"dataframe\">\n",
              "  <thead>\n",
              "    <tr style=\"text-align: right;\">\n",
              "      <th></th>\n",
              "      <th>Date</th>\n",
              "      <th>Open</th>\n",
              "      <th>High</th>\n",
              "      <th>Low</th>\n",
              "      <th>Close</th>\n",
              "      <th>Adj Close</th>\n",
              "      <th>Volume</th>\n",
              "    </tr>\n",
              "  </thead>\n",
              "  <tbody>\n",
              "    <tr>\n",
              "      <th>0</th>\n",
              "      <td>2020-02-03</td>\n",
              "      <td>1462.000000</td>\n",
              "      <td>1490.000000</td>\n",
              "      <td>1458.989990</td>\n",
              "      <td>1485.939941</td>\n",
              "      <td>1485.939941</td>\n",
              "      <td>3055200</td>\n",
              "    </tr>\n",
              "    <tr>\n",
              "      <th>1</th>\n",
              "      <td>2020-02-04</td>\n",
              "      <td>1457.069946</td>\n",
              "      <td>1469.500000</td>\n",
              "      <td>1426.300049</td>\n",
              "      <td>1447.069946</td>\n",
              "      <td>1447.069946</td>\n",
              "      <td>3933000</td>\n",
              "    </tr>\n",
              "    <tr>\n",
              "      <th>2</th>\n",
              "      <td>2020-02-05</td>\n",
              "      <td>1462.420044</td>\n",
              "      <td>1463.839966</td>\n",
              "      <td>1430.560059</td>\n",
              "      <td>1448.229980</td>\n",
              "      <td>1448.229980</td>\n",
              "      <td>1986200</td>\n",
              "    </tr>\n",
              "    <tr>\n",
              "      <th>3</th>\n",
              "      <td>2020-02-06</td>\n",
              "      <td>1450.329956</td>\n",
              "      <td>1482.000000</td>\n",
              "      <td>1449.569946</td>\n",
              "      <td>1476.229980</td>\n",
              "      <td>1476.229980</td>\n",
              "      <td>1679400</td>\n",
              "    </tr>\n",
              "    <tr>\n",
              "      <th>4</th>\n",
              "      <td>2020-02-07</td>\n",
              "      <td>1467.300049</td>\n",
              "      <td>1485.839966</td>\n",
              "      <td>1466.349976</td>\n",
              "      <td>1479.229980</td>\n",
              "      <td>1479.229980</td>\n",
              "      <td>1172300</td>\n",
              "    </tr>\n",
              "    <tr>\n",
              "      <th>...</th>\n",
              "      <td>...</td>\n",
              "      <td>...</td>\n",
              "      <td>...</td>\n",
              "      <td>...</td>\n",
              "      <td>...</td>\n",
              "      <td>...</td>\n",
              "      <td>...</td>\n",
              "    </tr>\n",
              "    <tr>\n",
              "      <th>95</th>\n",
              "      <td>2020-06-18</td>\n",
              "      <td>1449.160034</td>\n",
              "      <td>1451.410034</td>\n",
              "      <td>1427.010010</td>\n",
              "      <td>1435.959961</td>\n",
              "      <td>1435.959961</td>\n",
              "      <td>1581900</td>\n",
              "    </tr>\n",
              "    <tr>\n",
              "      <th>96</th>\n",
              "      <td>2020-06-19</td>\n",
              "      <td>1444.000000</td>\n",
              "      <td>1447.800049</td>\n",
              "      <td>1421.349976</td>\n",
              "      <td>1431.719971</td>\n",
              "      <td>1431.719971</td>\n",
              "      <td>3157900</td>\n",
              "    </tr>\n",
              "    <tr>\n",
              "      <th>97</th>\n",
              "      <td>2020-06-22</td>\n",
              "      <td>1429.000000</td>\n",
              "      <td>1452.750000</td>\n",
              "      <td>1423.209961</td>\n",
              "      <td>1451.859985</td>\n",
              "      <td>1451.859985</td>\n",
              "      <td>1542400</td>\n",
              "    </tr>\n",
              "    <tr>\n",
              "      <th>98</th>\n",
              "      <td>2020-06-23</td>\n",
              "      <td>1455.640015</td>\n",
              "      <td>1475.941040</td>\n",
              "      <td>1445.239990</td>\n",
              "      <td>1464.410034</td>\n",
              "      <td>1464.410034</td>\n",
              "      <td>1429800</td>\n",
              "    </tr>\n",
              "    <tr>\n",
              "      <th>99</th>\n",
              "      <td>2020-06-24</td>\n",
              "      <td>1461.510010</td>\n",
              "      <td>1475.420044</td>\n",
              "      <td>1429.750000</td>\n",
              "      <td>1431.969971</td>\n",
              "      <td>1431.969971</td>\n",
              "      <td>1756000</td>\n",
              "    </tr>\n",
              "  </tbody>\n",
              "</table>\n",
              "<p>100 rows × 7 columns</p>\n",
              "</div>"
            ],
            "text/plain": [
              "          Date         Open         High  ...        Close    Adj Close   Volume\n",
              "0   2020-02-03  1462.000000  1490.000000  ...  1485.939941  1485.939941  3055200\n",
              "1   2020-02-04  1457.069946  1469.500000  ...  1447.069946  1447.069946  3933000\n",
              "2   2020-02-05  1462.420044  1463.839966  ...  1448.229980  1448.229980  1986200\n",
              "3   2020-02-06  1450.329956  1482.000000  ...  1476.229980  1476.229980  1679400\n",
              "4   2020-02-07  1467.300049  1485.839966  ...  1479.229980  1479.229980  1172300\n",
              "..         ...          ...          ...  ...          ...          ...      ...\n",
              "95  2020-06-18  1449.160034  1451.410034  ...  1435.959961  1435.959961  1581900\n",
              "96  2020-06-19  1444.000000  1447.800049  ...  1431.719971  1431.719971  3157900\n",
              "97  2020-06-22  1429.000000  1452.750000  ...  1451.859985  1451.859985  1542400\n",
              "98  2020-06-23  1455.640015  1475.941040  ...  1464.410034  1464.410034  1429800\n",
              "99  2020-06-24  1461.510010  1475.420044  ...  1431.969971  1431.969971  1756000\n",
              "\n",
              "[100 rows x 7 columns]"
            ]
          },
          "metadata": {
            "tags": []
          },
          "execution_count": 33
        }
      ]
    },
    {
      "cell_type": "code",
      "metadata": {
        "id": "5Sb5V0onuzqQ",
        "colab_type": "code",
        "colab": {
          "base_uri": "https://localhost:8080/",
          "height": 1000
        },
        "outputId": "66adbf3f-c7ba-4173-a088-6e896122ec9f"
      },
      "source": [
        "transformed_ds = latest_dataset.iloc[:,1:2].values\n",
        "print(transformed_ds)\n",
        "valid_xtrain = dataset_transform(transformed_ds)\n",
        "testscaler = MinMaxScaler()"
      ],
      "execution_count": null,
      "outputs": [
        {
          "output_type": "stream",
          "text": [
            "[[1462.      ]\n",
            " [1457.069946]\n",
            " [1462.420044]\n",
            " [1450.329956]\n",
            " [1467.300049]\n",
            " [1474.319946]\n",
            " [1511.810059]\n",
            " [1514.47998 ]\n",
            " [1512.689941]\n",
            " [1515.599976]\n",
            " [1515.      ]\n",
            " [1525.069946]\n",
            " [1522.      ]\n",
            " [1508.030029]\n",
            " [1426.109985]\n",
            " [1433.      ]\n",
            " [1396.140015]\n",
            " [1362.060059]\n",
            " [1277.5     ]\n",
            " [1351.609985]\n",
            " [1399.420044]\n",
            " [1359.22998 ]\n",
            " [1350.199951]\n",
            " [1277.060059]\n",
            " [1205.300049]\n",
            " [1260.      ]\n",
            " [1249.699951]\n",
            " [1126.      ]\n",
            " [1179.      ]\n",
            " [1096.      ]\n",
            " [1093.109985]\n",
            " [1056.51001 ]\n",
            " [1093.050049]\n",
            " [1135.719971]\n",
            " [1061.319946]\n",
            " [1103.77002 ]\n",
            " [1126.469971]\n",
            " [1111.800049]\n",
            " [1125.670044]\n",
            " [1125.040039]\n",
            " [1147.300049]\n",
            " [1122.      ]\n",
            " [1098.26001 ]\n",
            " [1119.015015]\n",
            " [1138.      ]\n",
            " [1221.      ]\n",
            " [1206.5     ]\n",
            " [1224.079956]\n",
            " [1209.180054]\n",
            " [1245.089966]\n",
            " [1245.609985]\n",
            " [1274.099976]\n",
            " [1284.849976]\n",
            " [1271.      ]\n",
            " [1247.      ]\n",
            " [1245.540039]\n",
            " [1271.550049]\n",
            " [1261.170044]\n",
            " [1296.      ]\n",
            " [1287.930054]\n",
            " [1341.459961]\n",
            " [1324.880005]\n",
            " [1328.5     ]\n",
            " [1308.22998 ]\n",
            " [1337.920044]\n",
            " [1361.689941]\n",
            " [1365.939941]\n",
            " [1383.130005]\n",
            " [1378.280029]\n",
            " [1407.119995]\n",
            " [1377.050049]\n",
            " [1335.02002 ]\n",
            " [1350.      ]\n",
            " [1361.75    ]\n",
            " [1386.996948]\n",
            " [1389.579956]\n",
            " [1408.      ]\n",
            " [1396.709961]\n",
            " [1437.27002 ]\n",
            " [1417.25    ]\n",
            " [1396.859985]\n",
            " [1416.939941]\n",
            " [1418.390015]\n",
            " [1430.550049]\n",
            " [1438.300049]\n",
            " [1430.400024]\n",
            " [1413.170044]\n",
            " [1422.339966]\n",
            " [1445.359985]\n",
            " [1459.540039]\n",
            " [1442.47998 ]\n",
            " [1428.48999 ]\n",
            " [1390.800049]\n",
            " [1445.219971]\n",
            " [1447.160034]\n",
            " [1449.160034]\n",
            " [1444.      ]\n",
            " [1429.      ]\n",
            " [1455.640015]\n",
            " [1461.51001 ]]\n"
          ],
          "name": "stdout"
        }
      ]
    },
    {
      "cell_type": "code",
      "metadata": {
        "id": "eXnIbA3315q-",
        "colab_type": "code",
        "colab": {
          "base_uri": "https://localhost:8080/",
          "height": 35
        },
        "outputId": "1cea193e-34e6-474f-a831-b2889f979c82"
      },
      "source": [
        "may2020 = testscaler.fit_transform(valid_xtrain)\n",
        "may2020.shape"
      ],
      "execution_count": null,
      "outputs": [
        {
          "output_type": "execute_result",
          "data": {
            "text/plain": [
              "(1, 100)"
            ]
          },
          "metadata": {
            "tags": []
          },
          "execution_count": 35
        }
      ]
    },
    {
      "cell_type": "code",
      "metadata": {
        "id": "rvTOTAaf8KFS",
        "colab_type": "code",
        "colab": {}
      },
      "source": [
        "may2020 = np.reshape(may2020, (may2020.shape[0],may2020.shape[1],1))\n",
        "\n",
        "predicted_price_input = regressor.predict(may2020)\n",
        "predict_ds = np.zeros(shape=(len(predicted_price_input), time_steps) )\n",
        "predict_ds[:,0] = predicted_price_input[:,0]\n",
        "predicted_price_input = testscaler.inverse_transform(predict_ds)[:,0]\n",
        "realprice = np.reshape(realprice, (1))"
      ],
      "execution_count": null,
      "outputs": []
    },
    {
      "cell_type": "code",
      "metadata": {
        "id": "1F4XwpPTRWA4",
        "colab_type": "code",
        "colab": {
          "base_uri": "https://localhost:8080/",
          "height": 54
        },
        "outputId": "1b8bd77d-d7bd-47cd-d494-3c5d5eff645c"
      },
      "source": [
        "print(\"Predicted Price : \",predicted_price_input[0],\"\\nReal Stock Price: \", realprice[0])"
      ],
      "execution_count": null,
      "outputs": [
        {
          "output_type": "stream",
          "text": [
            "Predicted Price :  1462.0079473480582 \n",
            "Real Stock Price:  1429.900024\n"
          ],
          "name": "stdout"
        }
      ]
    },
    {
      "cell_type": "markdown",
      "metadata": {
        "id": "gZXBQCGIqCjr",
        "colab_type": "text"
      },
      "source": [
        "# Moving Average\n"
      ]
    },
    {
      "cell_type": "code",
      "metadata": {
        "id": "cvYcxig_Lazs",
        "colab_type": "code",
        "colab": {}
      },
      "source": [
        "def moving_average(dataset, timestep):\n",
        "  datax, datay = [], []\n",
        "  for i in range(len(dataset) - timestep - 1):\n",
        "    avg = dataset[i:(timestep + i), 0].sum() / timestep\n",
        "    datax.append([avg])\n",
        "    datay.append(dataset[i + timestep + 1])\n",
        "  return np.array(datax), np.array(datay)"
      ],
      "execution_count": null,
      "outputs": []
    },
    {
      "cell_type": "code",
      "metadata": {
        "id": "CH5g6N1_8yvN",
        "colab_type": "code",
        "colab": {}
      },
      "source": [
        "train_set_avg = data_set.iloc[:,1:2].values\n",
        "x_train_avg, y_train_avg = moving_average(train_set_avg, 30)"
      ],
      "execution_count": null,
      "outputs": []
    },
    {
      "cell_type": "code",
      "metadata": {
        "id": "b4oWomSTQH5R",
        "colab_type": "code",
        "colab": {
          "base_uri": "https://localhost:8080/",
          "height": 35
        },
        "outputId": "6aa5af52-e292-470c-e4c2-b883cfadd4ea"
      },
      "source": [
        "math.sqrt(mean_squared_error(x_train_avg,y_train_avg))"
      ],
      "execution_count": null,
      "outputs": [
        {
          "output_type": "execute_result",
          "data": {
            "text/plain": [
              "25.208496738580667"
            ]
          },
          "metadata": {
            "tags": []
          },
          "execution_count": 47
        }
      ]
    },
    {
      "cell_type": "code",
      "metadata": {
        "id": "M_tLxCfJVMeo",
        "colab_type": "code",
        "colab": {
          "base_uri": "https://localhost:8080/",
          "height": 335
        },
        "outputId": "4a6e9fb5-f84a-4b38-d008-fe9399979e03"
      },
      "source": [
        "#Visualizing the results\n",
        "plt.figure(figsize = (20,5))\n",
        "plt.plot(y_train_avg, color = 'blue', label = \"Actual price\")\n",
        "plt.plot(x_train_avg, color = \"red\", label = \"Predicted price\")\n",
        "plt.title(\"Stock Price Prediction using MOVING AVERAGE\")\n",
        "plt.xlabel(\"Days\")\n",
        "plt.ylabel(\"Stock price\")\n",
        "plt.legend()\n",
        "plt.show()"
      ],
      "execution_count": null,
      "outputs": [
        {
          "output_type": "display_data",
          "data": {
            "image/png": "[encoded data removed]",
            "text/plain": [
              "<Figure size 1440x360 with 1 Axes>"
            ]
          },
          "metadata": {
            "tags": [],
            "needs_background": "light"
          }
        }
      ]
    }
  ]
}